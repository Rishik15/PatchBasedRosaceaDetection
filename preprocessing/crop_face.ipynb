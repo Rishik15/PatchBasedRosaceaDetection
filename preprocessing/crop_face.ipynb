{
 "cells": [
  {
   "cell_type": "code",
   "execution_count": 2,
   "id": "e6cf8f0a",
   "metadata": {},
   "outputs": [],
   "source": [
    "import numpy as np\n",
    "import cv2\n",
    "import os\n",
    "import math"
   ]
  },
  {
   "cell_type": "code",
   "execution_count": 7,
   "id": "cdf2d7fd",
   "metadata": {},
   "outputs": [],
   "source": [
    "# Configuration\n",
    "IMG_DIR = \"../data/val/normal/\"\n",
    "OUT_DIR = \"../data/cropped_val/normal\"\n",
    "NEW_ROW = 150\n",
    "NEW_COL = 130\n",
    "EYE_DISTANCE = 70.0\n",
    "EYEROW = 45.0"
   ]
  },
  {
   "cell_type": "code",
   "execution_count": 31,
   "id": "26f1e347",
   "metadata": {},
   "outputs": [],
   "source": [
    "def rotate_image(img, x1, y1, x2, y2):\n",
    "    angle = -math.degrees(math.atan2(y2 - y1, x2 - x1))\n",
    "    center = ((x1 + x2) // 2, (y1 + y2) // 2)\n",
    "    rot_mat = cv2.getRotationMatrix2D(center, angle, 1.0)\n",
    "    rotated = cv2.warpAffine(img, rot_mat, (img.shape[1], img.shape[0]), flags=cv2.INTER_LINEAR)\n",
    "    new_eye1 = np.dot(rot_mat, np.array([x1, y1, 1]))\n",
    "    new_eye2 = np.dot(rot_mat, np.array([x2, y2, 1]))\n",
    "    return rotated, new_eye1.astype(int), new_eye2.astype(int)\n",
    "\n",
    "def resize_image(img, eye1, eye2):\n",
    "    current_dist = np.linalg.norm(eye2 - eye1)\n",
    "    scale = EYE_DISTANCE / current_dist\n",
    "    new_size = (int(img.shape[1] * scale), int(img.shape[0] * scale))\n",
    "    resized = cv2.resize(img, new_size, interpolation=cv2.INTER_LINEAR)\n",
    "    return resized, scale\n",
    "\n",
    "def crop_image(img, eye_left, eye_right, scale):\n",
    "    left_eye_x = eye_left[0] * scale\n",
    "    right_eye_x = eye_right[0] * scale\n",
    "    eye_y = eye_left[1] * scale\n",
    "\n",
    "    lft_col = int(left_eye_x - (NEW_COL - EYE_DISTANCE) / 2)\n",
    "    upr_row = int(eye_y - EYEROW)\n",
    "    rgt_col = lft_col + NEW_COL\n",
    "    btm_row = upr_row + NEW_ROW\n",
    "\n",
    "    # Ensure crop boundaries are within image\n",
    "    h, w = img.shape[:2]\n",
    "    lft_col = max(0, min(lft_col, w - NEW_COL))\n",
    "    upr_row = max(0, min(upr_row, h - NEW_ROW))\n",
    "\n",
    "    cropped = img[upr_row:upr_row + NEW_ROW, lft_col:lft_col + NEW_COL]\n",
    "    return cropped\n",
    "\n",
    "def process_images(coord_file):\n",
    "    with open(coord_file, 'r') as f:\n",
    "        for line in f:\n",
    "            tokens = line.strip().split()\n",
    "            if len(tokens) != 5:\n",
    "                continue\n",
    "            filename, x1, y1, x2, y2 = tokens\n",
    "            x1, y1, x2, y2 = map(int, (x1, y1, x2, y2))\n",
    "\n",
    "            filepath = os.path.join(IMG_DIR, filename)\n",
    "            img = cv2.imread(filepath, cv2.IMREAD_COLOR)  # Read as color\n",
    "            if img is None:\n",
    "                print(f\"Failed to load image: {filepath}\")\n",
    "                continue\n",
    "\n",
    "            rotated, eye1_new, eye2_new = rotate_image(img, x1, y1, x2, y2)\n",
    "            resized, scale = resize_image(rotated, eye1_new, eye2_new)\n",
    "            cropped = crop_image(resized, eye1_new, eye2_new, scale)\n",
    "            \n",
    "            h, w = cropped.shape[:2]\n",
    "            if (h, w) != (NEW_ROW, NEW_COL):\n",
    "                print(f\"Resizing {filename} from ({w}x{h}) to ({NEW_COL}x{NEW_ROW})\")\n",
    "                cropped = cv2.resize(cropped, (NEW_COL, NEW_ROW), interpolation=cv2.INTER_LINEAR)\n",
    "\n",
    "            out_path = os.path.join(OUT_DIR, filename + \".crop.png\")\n",
    "            os.makedirs(OUT_DIR, exist_ok=True)\n",
    "            cv2.imwrite(out_path, cropped)"
   ]
  },
  {
   "cell_type": "code",
   "execution_count": null,
   "id": "d4bda774",
   "metadata": {},
   "outputs": [],
   "source": [
    "process_images('../data/val/normal/coord.dat')"
   ]
  },
  {
   "cell_type": "code",
   "execution_count": 8,
   "id": "ac8647c5",
   "metadata": {},
   "outputs": [],
   "source": [
    "FOLDER_PATH = \"../data/cropped_test/rosacea\"\n",
    "i = 0\n",
    "\n",
    "for filename in os.listdir(FOLDER_PATH):\n",
    "    i+=1\n",
    "    if not filename.lower().endswith(('.jpg', '.jpeg', '.png')):\n",
    "        continue\n",
    "\n",
    "    filepath = os.path.join(FOLDER_PATH, filename)\n",
    "    img = cv2.imread(filepath)\n",
    "\n",
    "    if img is None:\n",
    "        print(f\"Failed to load {filename}\")\n",
    "        continue\n",
    "\n",
    "    h, w = img.shape[:2]\n",
    "    if (h, w) != (NEW_ROW, NEW_COL):\n",
    "        print(f\"Resizing {filename} from ({w}x{h}) to ({NEW_COL}x{NEW_ROW})\")\n",
    "        img = cv2.resize(img, (NEW_COL, NEW_ROW), interpolation=cv2.INTER_LINEAR)\n",
    "        cv2.imwrite(filepath, img)\n"
   ]
  }
 ],
 "metadata": {
  "kernelspec": {
   "display_name": "jupyter_env",
   "language": "python",
   "name": "python3"
  },
  "language_info": {
   "codemirror_mode": {
    "name": "ipython",
    "version": 3
   },
   "file_extension": ".py",
   "mimetype": "text/x-python",
   "name": "python",
   "nbconvert_exporter": "python",
   "pygments_lexer": "ipython3",
   "version": "3.10.8"
  }
 },
 "nbformat": 4,
 "nbformat_minor": 5
}
